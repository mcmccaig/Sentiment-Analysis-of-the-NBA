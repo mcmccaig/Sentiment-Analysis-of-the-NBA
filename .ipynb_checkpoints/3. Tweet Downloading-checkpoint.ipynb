{
 "cells": [
  {
   "cell_type": "markdown",
   "metadata": {},
   "source": [
    "# Step by step"
   ]
  },
  {
   "cell_type": "code",
   "execution_count": 1,
   "metadata": {},
   "outputs": [],
   "source": [
    "import GetOldTweets3 as got\n",
    "import pandas as pd\n",
    "import time\n",
    "import datetime"
   ]
  },
  {
   "cell_type": "markdown",
   "metadata": {},
   "source": [
    "# Download tweets tester"
   ]
  },
  {
   "cell_type": "code",
   "execution_count": 6,
   "metadata": {},
   "outputs": [
    {
     "name": "stdout",
     "output_type": "stream",
     "text": [
      "Runtime: 2.6679694652557373\n"
     ]
    }
   ],
   "source": [
    "start_time = time.time()\n",
    "tweetCriteria = got.manager.TweetCriteria().setQuerySearch('')\\\n",
    "                                           .setSince('2018-10-15')\\\n",
    "                                           .setUntil('2018-11-17')\\\n",
    "                                           .setWithin('30km')\\\n",
    "                                           .setLang(Lang='en')\\\n",
    "                                           .setNear(near='Toronto')\n",
    "tweet = got.manager.TweetManager.getTweets(tweetCriteria)\n",
    "end_time = time.time()\n",
    "print(f'Runtime: {end_time-start_time}')"
   ]
  },
  {
   "cell_type": "code",
   "execution_count": 7,
   "metadata": {},
   "outputs": [
    {
     "data": {
      "text/html": [
       "<div>\n",
       "<style scoped>\n",
       "    .dataframe tbody tr th:only-of-type {\n",
       "        vertical-align: middle;\n",
       "    }\n",
       "\n",
       "    .dataframe tbody tr th {\n",
       "        vertical-align: top;\n",
       "    }\n",
       "\n",
       "    .dataframe thead th {\n",
       "        text-align: right;\n",
       "    }\n",
       "</style>\n",
       "<table border=\"1\" class=\"dataframe\">\n",
       "  <thead>\n",
       "    <tr style=\"text-align: right;\">\n",
       "      <th></th>\n",
       "      <th>ID</th>\n",
       "      <th>Date</th>\n",
       "      <th>User</th>\n",
       "      <th>Tweet</th>\n",
       "    </tr>\n",
       "  </thead>\n",
       "  <tbody>\n",
       "    <tr>\n",
       "      <th>0</th>\n",
       "      <td>1059354949702836226</td>\n",
       "      <td>2018-11-05 08:01:16+00:00</td>\n",
       "      <td>MCBonde1</td>\n",
       "      <td>We mean BUSINESS!!! SIT DOWN jonybee99 Shoutou...</td>\n",
       "    </tr>\n",
       "    <tr>\n",
       "      <th>1</th>\n",
       "      <td>1054192109887066113</td>\n",
       "      <td>2018-10-22 02:05:59+00:00</td>\n",
       "      <td>AbiSkyhigh</td>\n",
       "      <td>“The measure of who we are is what we do with ...</td>\n",
       "    </tr>\n",
       "  </tbody>\n",
       "</table>\n",
       "</div>"
      ],
      "text/plain": [
       "                    ID                      Date        User  \\\n",
       "0  1059354949702836226 2018-11-05 08:01:16+00:00    MCBonde1   \n",
       "1  1054192109887066113 2018-10-22 02:05:59+00:00  AbiSkyhigh   \n",
       "\n",
       "                                               Tweet  \n",
       "0  We mean BUSINESS!!! SIT DOWN jonybee99 Shoutou...  \n",
       "1  “The measure of who we are is what we do with ...  "
      ]
     },
     "execution_count": 7,
     "metadata": {},
     "output_type": "execute_result"
    }
   ],
   "source": [
    "pd.DataFrame({'ID': [i.id for i in tweet],\n",
    "              'Date': [i.date for i in tweet],\n",
    "              'User': [i.username for i in tweet],\n",
    "              'Tweet': [i.text for i in tweet]})"
   ]
  },
  {
   "cell_type": "markdown",
   "metadata": {},
   "source": [
    "# tweet download function"
   ]
  },
  {
   "cell_type": "code",
   "execution_count": 2,
   "metadata": {},
   "outputs": [],
   "source": [
    "#NBA team and city location dictionary\n",
    "opponent_dict={'Atlanta Hawks': 'Atlanta',\n",
    "               'Boston Celtics': 'Boston',\n",
    "               'Brooklyn Nets': 'Brooklyn',\n",
    "               'Charlotte Hornets': 'Charlotte',\n",
    "               'Chicago Bulls': 'Chicago',\n",
    "               'Cleveland Cavaliers': 'Cleveland',\n",
    "               'Dallas Mavericks': 'Dallas',\n",
    "               'Denver Nuggets': 'Denver',\n",
    "               'Detroit Pistons': 'Detroit',\n",
    "               'Golden State Warriors': 'San Francisco',\n",
    "               'Houston Rockets': 'Houston',\n",
    "               'Indiana Pacers': 'Indianapolis',\n",
    "               'Los Angeles Clippers': 'Los Angeles',\n",
    "               'Los Angeles Lakers': 'Los Angeles',\n",
    "               'Memphis Grizzlies': 'Memphis',\n",
    "               'Miami Heat': 'Miami',\n",
    "               'Milwaukee Bucks': 'Milwaukee',\n",
    "               'Minnesota Timberwolves': 'Minneapolis',\n",
    "               'New Orleans Pelicans': 'New Orleans',\n",
    "               'New York Knicks': 'New York',\n",
    "               'Oklahoma City Thunder': 'Oklahoma City',\n",
    "               'Orlando Magic': 'Orlando',\n",
    "               'Philadelphia 76ers': 'Philadelphia',\n",
    "               'Phoenix Suns': 'Phoenix',\n",
    "               'Portland Trail Blazers': 'Portland',\n",
    "               'Sacramento Kings': 'Sacramento',\n",
    "               'San Antonio Spurs': 'San Antonio',\n",
    "               'Toronto Raptors': 'Toronto',\n",
    "               'Utah Jazz': 'Salt Lake City',\n",
    "               'Washington Wizards': 'Washington D.C.'\n",
    "}"
   ]
  },
  {
   "cell_type": "code",
   "execution_count": 12,
   "metadata": {},
   "outputs": [],
   "source": [
    "def tweet_downloader(query):    \n",
    "    \n",
    "    #loop to download the time and location specific tweets \n",
    "    start_time = time.time()\n",
    "    final_tweets = pd.DataFrame()\n",
    "    for i in opponent_dict.values():\n",
    "        tweetCriteria = got.manager.TweetCriteria().setQuerySearch(f'{query}')\\\n",
    "                                                   .setSince('2018-10-09')\\\n",
    "                                                   .setUntil('2019-04-11')\\\n",
    "                                                   .setWithin('30km')\\\n",
    "                                                   .setLang(Lang='en')\\\n",
    "                                                   .setNear(near=i)\n",
    "\n",
    "        tweet = got.manager.TweetManager.getTweets(tweetCriteria)\n",
    "        end_time = time.time()\n",
    "        print(f'Retrieving tweets from: {i}.             ', end='\\r')\n",
    "        for n in tweet:\n",
    "            final_tweets = final_tweets.append({'ID': n.id,\n",
    "                                                'Date': n.date,\n",
    "                                                'User': n.username,\n",
    "                                                'Tweet': n.text,\n",
    "                                                'Game Location': i},\n",
    "                                                ignore_index=True)\n",
    "        \n",
    "    final_tweets = final_tweets.sort_values(['Date']).reset_index(drop=True)\n",
    "    \n",
    "    final_tweets.to_csv(f'../data/tweets/{query}_2018_tweets_v3.csv')\n",
    "    \n",
    "    end_time = time.time()\n",
    "    print(f'Finished. Runtime: {end_time - start_time}           ')"
   ]
  },
  {
   "cell_type": "markdown",
   "metadata": {},
   "source": [
    "# Loop"
   ]
  },
  {
   "cell_type": "code",
   "execution_count": 13,
   "metadata": {},
   "outputs": [],
   "source": [
    "toronto = ['raptors', \n",
    "           'kawhi',\n",
    "           'kyle lowry',\n",
    "           'pascal siakam']\n",
    "\n",
    "houston = ['rockets',\n",
    "           'james harden',\n",
    "           'clint capela',\n",
    "           'chris paul']\n",
    "\n",
    "goldenstate = ['warriors',\n",
    "            'kevin durant',\n",
    "            'klay thompson',\n",
    "            'steph curry']          \n",
    "\n",
    "newyork = ['knicks',\n",
    "             'tim hardaway',\n",
    "             'dennis smith',\n",
    "             'emmanuel mudiay']\n",
    "\n",
    "losangeles = ['lakers',\n",
    "              'lebron',\n",
    "              'kyle kuzma',\n",
    "              'brandon ingram']\n"
   ]
  },
  {
   "cell_type": "code",
   "execution_count": null,
   "metadata": {},
   "outputs": [],
   "source": [
    "for i in toronto:\n",
    "    tweet_downloader(i)\n"
   ]
  },
  {
   "cell_type": "code",
   "execution_count": null,
   "metadata": {},
   "outputs": [],
   "source": [
    "for i in houston:\n",
    "    tweet_downloader(i)\n"
   ]
  },
  {
   "cell_type": "code",
   "execution_count": null,
   "metadata": {},
   "outputs": [],
   "source": [
    "for i in goldenstate:\n",
    "    tweet_downloader(i)\n"
   ]
  },
  {
   "cell_type": "code",
   "execution_count": null,
   "metadata": {},
   "outputs": [],
   "source": [
    "for i in newyork:\n",
    "    tweet_downloader(i)\n"
   ]
  },
  {
   "cell_type": "code",
   "execution_count": 15,
   "metadata": {},
   "outputs": [
    {
     "name": "stdout",
     "output_type": "stream",
     "text": [
      "Finished. Runtime: 719.1988184452057                 \n",
      "Finished. Runtime: 660.2675368785858                 \n",
      "Finished. Runtime: 46.87646198272705                 \n",
      "Finished. Runtime: 32.7880916595459                  \n"
     ]
    }
   ],
   "source": [
    "for i in losangeles:\n",
    "    tweet_downloader(i)\n"
   ]
  }
 ],
 "metadata": {
  "kernelspec": {
   "display_name": "Python 3",
   "language": "python",
   "name": "python3"
  },
  "language_info": {
   "codemirror_mode": {
    "name": "ipython",
    "version": 3
   },
   "file_extension": ".py",
   "mimetype": "text/x-python",
   "name": "python",
   "nbconvert_exporter": "python",
   "pygments_lexer": "ipython3",
   "version": "3.7.3"
  }
 },
 "nbformat": 4,
 "nbformat_minor": 4
}
