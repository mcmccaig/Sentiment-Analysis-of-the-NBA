{
 "cells": [
  {
   "cell_type": "code",
   "execution_count": 1,
   "metadata": {},
   "outputs": [],
   "source": [
    "import requests\n",
    "import pandas as pd"
   ]
  },
  {
   "cell_type": "code",
   "execution_count": 2,
   "metadata": {},
   "outputs": [],
   "source": [
    "latemonths = ['october', 'november', 'december']\n",
    "earlymonths = ['january', 'february', 'march', 'april', 'may', 'june']"
   ]
  },
  {
   "cell_type": "code",
   "execution_count": 3,
   "metadata": {},
   "outputs": [],
   "source": [
    "#game by game attendance scraping\n",
    "for i in latemonths:\n",
    "    \n",
    "    html_doc = requests.get(f'https://www.basketball-reference.com/leagues/NBA_2019_games-{i}.html').content\n",
    "\n",
    "    tables = pd.read_html(html_doc)\n",
    "\n",
    "    tables[0].to_csv(f'data/attendance/{i}_2018_nba_attendance.csv', index=False)"
   ]
  },
  {
   "cell_type": "code",
   "execution_count": 4,
   "metadata": {},
   "outputs": [],
   "source": [
    "#game by game attendance scraping\n",
    "for i in earlymonths:\n",
    "    \n",
    "    html_doc = requests.get(f'https://www.basketball-reference.com/leagues/NBA_2019_games-{i}.html').content\n",
    "\n",
    "    tables = pd.read_html(html_doc)\n",
    "\n",
    "    tables[0]\n",
    "\n",
    "    tables[0].to_csv(f'data/attendance/{i}_2019_nba_attendance.csv', index=False)"
   ]
  },
  {
   "cell_type": "code",
   "execution_count": 5,
   "metadata": {},
   "outputs": [],
   "source": [
    "#arena capacity scraping\n",
    "html_doc = requests.get('https://en.wikipedia.org/wiki/List_of_National_Basketball_Association_arenas').content\n",
    "\n",
    "tables = pd.read_html(html_doc)\n",
    "\n",
    "tables[0]\n",
    "\n",
    "tables[0].to_csv('data/capacity/arena_capacity.csv', index=False)"
   ]
  }
 ],
 "metadata": {
  "kernelspec": {
   "display_name": "Python 3",
   "language": "python",
   "name": "python3"
  },
  "language_info": {
   "codemirror_mode": {
    "name": "ipython",
    "version": 3
   },
   "file_extension": ".py",
   "mimetype": "text/x-python",
   "name": "python",
   "nbconvert_exporter": "python",
   "pygments_lexer": "ipython3",
   "version": "3.6.9"
  }
 },
 "nbformat": 4,
 "nbformat_minor": 4
}
