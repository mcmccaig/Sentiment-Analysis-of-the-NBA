{
 "cells": [
  {
   "cell_type": "markdown",
   "metadata": {},
   "source": [
    "# Word2Vec / Neural Networks"
   ]
  },
  {
   "cell_type": "code",
   "execution_count": 1,
   "metadata": {},
   "outputs": [
    {
     "name": "stderr",
     "output_type": "stream",
     "text": [
      "Using TensorFlow backend.\n"
     ]
    }
   ],
   "source": [
    "import numpy as np\n",
    "import pandas as pd\n",
    "import matplotlib.pyplot as plt\n",
    "import glob\n",
    "\n",
    "from sklearn.model_selection import train_test_split\n",
    "from sklearn.feature_extraction.text import ENGLISH_STOP_WORDS\n",
    "from sklearn.metrics import classification_report\n",
    "from sklearn.metrics import confusion_matrix\n",
    "from sklearn.preprocessing import LabelEncoder\n",
    "\n",
    "from tensorflow.python.keras.preprocessing.sequence import pad_sequences\n",
    "from tensorflow.python.keras.preprocessing.text import Tokenizer\n",
    "\n",
    "from keras.models import Sequential\n",
    "from keras.layers import Dense, Embedding, LSTM\n",
    "from keras.utils.np_utils import to_categorical\n",
    "\n",
    "import gensim\n",
    "\n",
    "import nltk\n",
    "from nltk.tokenize import word_tokenize\n",
    "from nltk.corpus import stopwords\n",
    "import string\n",
    "\n",
    "pd.set_option('max_colwidth', 1000)"
   ]
  },
  {
   "cell_type": "code",
   "execution_count": 2,
   "metadata": {},
   "outputs": [],
   "source": [
    "training_data = pd.read_csv('data/SemEval Tweets/cleaned_training_data.csv', index_col=0, encoding='utf-8')"
   ]
  },
  {
   "cell_type": "code",
   "execution_count": 3,
   "metadata": {},
   "outputs": [
    {
     "name": "stdout",
     "output_type": "stream",
     "text": [
      "<class 'pandas.core.frame.DataFrame'>\n",
      "Int64Index: 61648 entries, 0 to 61647\n",
      "Data columns (total 3 columns):\n",
      "ID           61648 non-null int64\n",
      "Tweet        61607 non-null object\n",
      "Sentiment    61648 non-null int64\n",
      "dtypes: int64(2), object(1)\n",
      "memory usage: 1.9+ MB\n"
     ]
    }
   ],
   "source": [
    "training_data.info()"
   ]
  },
  {
   "cell_type": "markdown",
   "metadata": {},
   "source": [
    "For some reason some tweet column entries have been lost from the export and import of the csv. Will recreate the training_data dataframe using the same method as in the Bag Of Words model notebook."
   ]
  },
  {
   "cell_type": "code",
   "execution_count": 4,
   "metadata": {},
   "outputs": [],
   "source": [
    "all_files = glob.glob(\"data/SemEval Tweets/*.txt\")\n",
    "column_names = ['ID', 'Sentiment', 'Tweet']\n",
    "list = []\n",
    "\n",
    "for filename in all_files:\n",
    "    df = pd.read_csv(filename, sep='\\t', names=column_names, index_col=False, encoding='utf-8')\n",
    "    list.append(df)\n",
    "\n",
    "training_data = pd.concat(list, axis=0, ignore_index=True)"
   ]
  },
  {
   "cell_type": "code",
   "execution_count": 5,
   "metadata": {},
   "outputs": [
    {
     "data": {
      "text/html": [
       "<div>\n",
       "<style scoped>\n",
       "    .dataframe tbody tr th:only-of-type {\n",
       "        vertical-align: middle;\n",
       "    }\n",
       "\n",
       "    .dataframe tbody tr th {\n",
       "        vertical-align: top;\n",
       "    }\n",
       "\n",
       "    .dataframe thead th {\n",
       "        text-align: right;\n",
       "    }\n",
       "</style>\n",
       "<table border=\"1\" class=\"dataframe\">\n",
       "  <thead>\n",
       "    <tr style=\"text-align: right;\">\n",
       "      <th></th>\n",
       "      <th>ID</th>\n",
       "      <th>Sentiment</th>\n",
       "      <th>Tweet</th>\n",
       "    </tr>\n",
       "  </thead>\n",
       "  <tbody>\n",
       "    <tr>\n",
       "      <th>0</th>\n",
       "      <td>260097528899452929</td>\n",
       "      <td>neutral</td>\n",
       "      <td>Won the match #getin . Plus\\u002c tomorrow is a very busy day\\u002c with Awareness Day\\u2019s and debates. Gulp. Debates...</td>\n",
       "    </tr>\n",
       "    <tr>\n",
       "      <th>1</th>\n",
       "      <td>263791921753882624</td>\n",
       "      <td>neutral</td>\n",
       "      <td>Some areas of New England could see the first flakes of the season Tuesday.</td>\n",
       "    </tr>\n",
       "    <tr>\n",
       "      <th>2</th>\n",
       "      <td>264194578381410304</td>\n",
       "      <td>negative</td>\n",
       "      <td>@francesco_con40 2nd worst QB. DEFINITELY Tony Romo. The man who likes to share the ball with everyone. Including the other team.</td>\n",
       "    </tr>\n",
       "    <tr>\n",
       "      <th>3</th>\n",
       "      <td>264041328420204544</td>\n",
       "      <td>neutral</td>\n",
       "      <td>#Thailand Washington - US President Barack Obama vowed Wednesday as he visited storm-ravaged New Jersey shore to... http://t.co/Xzl4LFhs</td>\n",
       "    </tr>\n",
       "    <tr>\n",
       "      <th>4</th>\n",
       "      <td>263816256640126976</td>\n",
       "      <td>neutral</td>\n",
       "      <td>Did y\\u2019all hear what Tony Romo dressed up as for Halloween? A Giants quaterback! Cause that\\u2019s all he could throw to sunday night.</td>\n",
       "    </tr>\n",
       "    <tr>\n",
       "      <th>...</th>\n",
       "      <td>...</td>\n",
       "      <td>...</td>\n",
       "      <td>...</td>\n",
       "    </tr>\n",
       "    <tr>\n",
       "      <th>50078</th>\n",
       "      <td>639855845958885376</td>\n",
       "      <td>positive</td>\n",
       "      <td>@Racalto_SK ok good to know. Punting at MetLife in December is a task just hope hes up for it.</td>\n",
       "    </tr>\n",
       "    <tr>\n",
       "      <th>50079</th>\n",
       "      <td>639979760735662080</td>\n",
       "      <td>neutral</td>\n",
       "      <td>everyone who sat around me at metlife was so annoying but i didnt let it ruin such an amazing night</td>\n",
       "    </tr>\n",
       "    <tr>\n",
       "      <th>50080</th>\n",
       "      <td>640196838260363269</td>\n",
       "      <td>neutral</td>\n",
       "      <td>what giants or niners fans would wanna go to the sunday night game at Metlife?</td>\n",
       "    </tr>\n",
       "    <tr>\n",
       "      <th>50081</th>\n",
       "      <td>640975710354567168</td>\n",
       "      <td>positive</td>\n",
       "      <td>Anybody want a ticket for tomorrow Colombia vs Peru at MetLife?</td>\n",
       "    </tr>\n",
       "    <tr>\n",
       "      <th>50082</th>\n",
       "      <td>641034340068143104</td>\n",
       "      <td>neutral</td>\n",
       "      <td>Mendez told me he'd drive me to MetLife on Sunday... My reaction: http://t.co/mUa1e0zrdC</td>\n",
       "    </tr>\n",
       "  </tbody>\n",
       "</table>\n",
       "<p>50083 rows × 3 columns</p>\n",
       "</div>"
      ],
      "text/plain": [
       "                       ID Sentiment  \\\n",
       "0      260097528899452929   neutral   \n",
       "1      263791921753882624   neutral   \n",
       "2      264194578381410304  negative   \n",
       "3      264041328420204544   neutral   \n",
       "4      263816256640126976   neutral   \n",
       "...                   ...       ...   \n",
       "50078  639855845958885376  positive   \n",
       "50079  639979760735662080   neutral   \n",
       "50080  640196838260363269   neutral   \n",
       "50081  640975710354567168  positive   \n",
       "50082  641034340068143104   neutral   \n",
       "\n",
       "                                                                                                                                            Tweet  \n",
       "0                     Won the match #getin . Plus\\u002c tomorrow is a very busy day\\u002c with Awareness Day\\u2019s and debates. Gulp. Debates...  \n",
       "1                                                                     Some areas of New England could see the first flakes of the season Tuesday.  \n",
       "2               @francesco_con40 2nd worst QB. DEFINITELY Tony Romo. The man who likes to share the ball with everyone. Including the other team.  \n",
       "3        #Thailand Washington - US President Barack Obama vowed Wednesday as he visited storm-ravaged New Jersey shore to... http://t.co/Xzl4LFhs  \n",
       "4      Did y\\u2019all hear what Tony Romo dressed up as for Halloween? A Giants quaterback! Cause that\\u2019s all he could throw to sunday night.  \n",
       "...                                                                                                                                           ...  \n",
       "50078                                              @Racalto_SK ok good to know. Punting at MetLife in December is a task just hope hes up for it.  \n",
       "50079                                         everyone who sat around me at metlife was so annoying but i didnt let it ruin such an amazing night  \n",
       "50080                                                              what giants or niners fans would wanna go to the sunday night game at Metlife?  \n",
       "50081                                                                             Anybody want a ticket for tomorrow Colombia vs Peru at MetLife?  \n",
       "50082                                                    Mendez told me he'd drive me to MetLife on Sunday... My reaction: http://t.co/mUa1e0zrdC  \n",
       "\n",
       "[50083 rows x 3 columns]"
      ]
     },
     "execution_count": 5,
     "metadata": {},
     "output_type": "execute_result"
    }
   ],
   "source": [
    "training_data"
   ]
  },
  {
   "cell_type": "markdown",
   "metadata": {},
   "source": [
    "#### Tweet Cleanup"
   ]
  },
  {
   "cell_type": "code",
   "execution_count": 6,
   "metadata": {},
   "outputs": [
    {
     "data": {
      "text/html": [
       "<div>\n",
       "<style scoped>\n",
       "    .dataframe tbody tr th:only-of-type {\n",
       "        vertical-align: middle;\n",
       "    }\n",
       "\n",
       "    .dataframe tbody tr th {\n",
       "        vertical-align: top;\n",
       "    }\n",
       "\n",
       "    .dataframe thead th {\n",
       "        text-align: right;\n",
       "    }\n",
       "</style>\n",
       "<table border=\"1\" class=\"dataframe\">\n",
       "  <thead>\n",
       "    <tr style=\"text-align: right;\">\n",
       "      <th></th>\n",
       "      <th>ID</th>\n",
       "      <th>Sentiment</th>\n",
       "      <th>Tweet</th>\n",
       "    </tr>\n",
       "  </thead>\n",
       "  <tbody>\n",
       "    <tr>\n",
       "      <th>0</th>\n",
       "      <td>260097528899452929</td>\n",
       "      <td>neutral</td>\n",
       "      <td>Won the match #getin . Plus\\u002c tomorrow is a very busy day\\u002c with Awareness Day\\u2019s and debates. Gulp. Debates...</td>\n",
       "    </tr>\n",
       "    <tr>\n",
       "      <th>1</th>\n",
       "      <td>263791921753882624</td>\n",
       "      <td>neutral</td>\n",
       "      <td>Some areas of New England could see the first flakes of the season Tuesday.</td>\n",
       "    </tr>\n",
       "    <tr>\n",
       "      <th>2</th>\n",
       "      <td>264194578381410304</td>\n",
       "      <td>negative</td>\n",
       "      <td>@francesco_con40 2nd worst QB. DEFINITELY Tony Romo. The man who likes to share the ball with everyone. Including the other team.</td>\n",
       "    </tr>\n",
       "    <tr>\n",
       "      <th>3</th>\n",
       "      <td>264041328420204544</td>\n",
       "      <td>neutral</td>\n",
       "      <td>#Thailand Washington - US President Barack Obama vowed Wednesday as he visited storm-ravaged New Jersey shore to... http://t.co/Xzl4LFhs</td>\n",
       "    </tr>\n",
       "    <tr>\n",
       "      <th>4</th>\n",
       "      <td>263816256640126976</td>\n",
       "      <td>neutral</td>\n",
       "      <td>Did y\\u2019all hear what Tony Romo dressed up as for Halloween? A Giants quaterback! Cause that\\u2019s all he could throw to sunday night.</td>\n",
       "    </tr>\n",
       "    <tr>\n",
       "      <th>...</th>\n",
       "      <td>...</td>\n",
       "      <td>...</td>\n",
       "      <td>...</td>\n",
       "    </tr>\n",
       "    <tr>\n",
       "      <th>50078</th>\n",
       "      <td>639855845958885376</td>\n",
       "      <td>positive</td>\n",
       "      <td>@Racalto_SK ok good to know. Punting at MetLife in December is a task just hope hes up for it.</td>\n",
       "    </tr>\n",
       "    <tr>\n",
       "      <th>50079</th>\n",
       "      <td>639979760735662080</td>\n",
       "      <td>neutral</td>\n",
       "      <td>everyone who sat around me at metlife was so annoying but i didnt let it ruin such an amazing night</td>\n",
       "    </tr>\n",
       "    <tr>\n",
       "      <th>50080</th>\n",
       "      <td>640196838260363269</td>\n",
       "      <td>neutral</td>\n",
       "      <td>what giants or niners fans would wanna go to the sunday night game at Metlife?</td>\n",
       "    </tr>\n",
       "    <tr>\n",
       "      <th>50081</th>\n",
       "      <td>640975710354567168</td>\n",
       "      <td>positive</td>\n",
       "      <td>Anybody want a ticket for tomorrow Colombia vs Peru at MetLife?</td>\n",
       "    </tr>\n",
       "    <tr>\n",
       "      <th>50082</th>\n",
       "      <td>641034340068143104</td>\n",
       "      <td>neutral</td>\n",
       "      <td>Mendez told me he'd drive me to MetLife on Sunday... My reaction: http://t.co/mUa1e0zrdC</td>\n",
       "    </tr>\n",
       "  </tbody>\n",
       "</table>\n",
       "<p>49418 rows × 3 columns</p>\n",
       "</div>"
      ],
      "text/plain": [
       "                       ID Sentiment  \\\n",
       "0      260097528899452929   neutral   \n",
       "1      263791921753882624   neutral   \n",
       "2      264194578381410304  negative   \n",
       "3      264041328420204544   neutral   \n",
       "4      263816256640126976   neutral   \n",
       "...                   ...       ...   \n",
       "50078  639855845958885376  positive   \n",
       "50079  639979760735662080   neutral   \n",
       "50080  640196838260363269   neutral   \n",
       "50081  640975710354567168  positive   \n",
       "50082  641034340068143104   neutral   \n",
       "\n",
       "                                                                                                                                            Tweet  \n",
       "0                     Won the match #getin . Plus\\u002c tomorrow is a very busy day\\u002c with Awareness Day\\u2019s and debates. Gulp. Debates...  \n",
       "1                                                                     Some areas of New England could see the first flakes of the season Tuesday.  \n",
       "2               @francesco_con40 2nd worst QB. DEFINITELY Tony Romo. The man who likes to share the ball with everyone. Including the other team.  \n",
       "3        #Thailand Washington - US President Barack Obama vowed Wednesday as he visited storm-ravaged New Jersey shore to... http://t.co/Xzl4LFhs  \n",
       "4      Did y\\u2019all hear what Tony Romo dressed up as for Halloween? A Giants quaterback! Cause that\\u2019s all he could throw to sunday night.  \n",
       "...                                                                                                                                           ...  \n",
       "50078                                              @Racalto_SK ok good to know. Punting at MetLife in December is a task just hope hes up for it.  \n",
       "50079                                         everyone who sat around me at metlife was so annoying but i didnt let it ruin such an amazing night  \n",
       "50080                                                              what giants or niners fans would wanna go to the sunday night game at Metlife?  \n",
       "50081                                                                             Anybody want a ticket for tomorrow Colombia vs Peru at MetLife?  \n",
       "50082                                                    Mendez told me he'd drive me to MetLife on Sunday... My reaction: http://t.co/mUa1e0zrdC  \n",
       "\n",
       "[49418 rows x 3 columns]"
      ]
     },
     "execution_count": 6,
     "metadata": {},
     "output_type": "execute_result"
    }
   ],
   "source": [
    "training_data = training_data.drop_duplicates()\n",
    "training_data"
   ]
  },
  {
   "cell_type": "code",
   "execution_count": 7,
   "metadata": {},
   "outputs": [
    {
     "name": "stderr",
     "output_type": "stream",
     "text": [
      "C:\\Users\\mitch\\Anaconda3\\envs\\neuralnetworks\\lib\\site-packages\\ipykernel_launcher.py:1: SettingWithCopyWarning: \n",
      "A value is trying to be set on a copy of a slice from a DataFrame.\n",
      "Try using .loc[row_indexer,col_indexer] = value instead\n",
      "\n",
      "See the caveats in the documentation: http://pandas.pydata.org/pandas-docs/stable/user_guide/indexing.html#returning-a-view-versus-a-copy\n",
      "  \"\"\"Entry point for launching an IPython kernel.\n",
      "C:\\Users\\mitch\\Anaconda3\\envs\\neuralnetworks\\lib\\site-packages\\ipykernel_launcher.py:2: SettingWithCopyWarning: \n",
      "A value is trying to be set on a copy of a slice from a DataFrame.\n",
      "Try using .loc[row_indexer,col_indexer] = value instead\n",
      "\n",
      "See the caveats in the documentation: http://pandas.pydata.org/pandas-docs/stable/user_guide/indexing.html#returning-a-view-versus-a-copy\n",
      "  \n",
      "C:\\Users\\mitch\\Anaconda3\\envs\\neuralnetworks\\lib\\site-packages\\ipykernel_launcher.py:3: SettingWithCopyWarning: \n",
      "A value is trying to be set on a copy of a slice from a DataFrame.\n",
      "Try using .loc[row_indexer,col_indexer] = value instead\n",
      "\n",
      "See the caveats in the documentation: http://pandas.pydata.org/pandas-docs/stable/user_guide/indexing.html#returning-a-view-versus-a-copy\n",
      "  This is separate from the ipykernel package so we can avoid doing imports until\n"
     ]
    }
   ],
   "source": [
    "training_data['Tweet'] = training_data['Tweet'].str.replace('\\\\\\\\u002c', ',')\n",
    "training_data['Tweet'] = training_data['Tweet'].str.replace('\\\\\\\\u2019', \"'\")\n",
    "training_data['Tweet'] = training_data['Tweet'].str.replace('\\\\\\\\\"\"', '')"
   ]
  },
  {
   "cell_type": "code",
   "execution_count": 8,
   "metadata": {},
   "outputs": [
    {
     "data": {
      "text/html": [
       "<div>\n",
       "<style scoped>\n",
       "    .dataframe tbody tr th:only-of-type {\n",
       "        vertical-align: middle;\n",
       "    }\n",
       "\n",
       "    .dataframe tbody tr th {\n",
       "        vertical-align: top;\n",
       "    }\n",
       "\n",
       "    .dataframe thead th {\n",
       "        text-align: right;\n",
       "    }\n",
       "</style>\n",
       "<table border=\"1\" class=\"dataframe\">\n",
       "  <thead>\n",
       "    <tr style=\"text-align: right;\">\n",
       "      <th></th>\n",
       "      <th>ID</th>\n",
       "      <th>Sentiment</th>\n",
       "      <th>Tweet</th>\n",
       "    </tr>\n",
       "  </thead>\n",
       "  <tbody>\n",
       "    <tr>\n",
       "      <th>0</th>\n",
       "      <td>260097528899452929</td>\n",
       "      <td>neutral</td>\n",
       "      <td>Won the match #getin . Plus, tomorrow is a very busy day, with Awareness Day's and debates. Gulp. Debates...</td>\n",
       "    </tr>\n",
       "    <tr>\n",
       "      <th>1</th>\n",
       "      <td>263791921753882624</td>\n",
       "      <td>neutral</td>\n",
       "      <td>Some areas of New England could see the first flakes of the season Tuesday.</td>\n",
       "    </tr>\n",
       "    <tr>\n",
       "      <th>2</th>\n",
       "      <td>264194578381410304</td>\n",
       "      <td>negative</td>\n",
       "      <td>@francesco_con40 2nd worst QB. DEFINITELY Tony Romo. The man who likes to share the ball with everyone. Including the other team.</td>\n",
       "    </tr>\n",
       "    <tr>\n",
       "      <th>3</th>\n",
       "      <td>264041328420204544</td>\n",
       "      <td>neutral</td>\n",
       "      <td>#Thailand Washington - US President Barack Obama vowed Wednesday as he visited storm-ravaged New Jersey shore to... http://t.co/Xzl4LFhs</td>\n",
       "    </tr>\n",
       "    <tr>\n",
       "      <th>4</th>\n",
       "      <td>263816256640126976</td>\n",
       "      <td>neutral</td>\n",
       "      <td>Did y'all hear what Tony Romo dressed up as for Halloween? A Giants quaterback! Cause that's all he could throw to sunday night.</td>\n",
       "    </tr>\n",
       "    <tr>\n",
       "      <th>...</th>\n",
       "      <td>...</td>\n",
       "      <td>...</td>\n",
       "      <td>...</td>\n",
       "    </tr>\n",
       "    <tr>\n",
       "      <th>50078</th>\n",
       "      <td>639855845958885376</td>\n",
       "      <td>positive</td>\n",
       "      <td>@Racalto_SK ok good to know. Punting at MetLife in December is a task just hope hes up for it.</td>\n",
       "    </tr>\n",
       "    <tr>\n",
       "      <th>50079</th>\n",
       "      <td>639979760735662080</td>\n",
       "      <td>neutral</td>\n",
       "      <td>everyone who sat around me at metlife was so annoying but i didnt let it ruin such an amazing night</td>\n",
       "    </tr>\n",
       "    <tr>\n",
       "      <th>50080</th>\n",
       "      <td>640196838260363269</td>\n",
       "      <td>neutral</td>\n",
       "      <td>what giants or niners fans would wanna go to the sunday night game at Metlife?</td>\n",
       "    </tr>\n",
       "    <tr>\n",
       "      <th>50081</th>\n",
       "      <td>640975710354567168</td>\n",
       "      <td>positive</td>\n",
       "      <td>Anybody want a ticket for tomorrow Colombia vs Peru at MetLife?</td>\n",
       "    </tr>\n",
       "    <tr>\n",
       "      <th>50082</th>\n",
       "      <td>641034340068143104</td>\n",
       "      <td>neutral</td>\n",
       "      <td>Mendez told me he'd drive me to MetLife on Sunday... My reaction: http://t.co/mUa1e0zrdC</td>\n",
       "    </tr>\n",
       "  </tbody>\n",
       "</table>\n",
       "<p>49418 rows × 3 columns</p>\n",
       "</div>"
      ],
      "text/plain": [
       "                       ID Sentiment  \\\n",
       "0      260097528899452929   neutral   \n",
       "1      263791921753882624   neutral   \n",
       "2      264194578381410304  negative   \n",
       "3      264041328420204544   neutral   \n",
       "4      263816256640126976   neutral   \n",
       "...                   ...       ...   \n",
       "50078  639855845958885376  positive   \n",
       "50079  639979760735662080   neutral   \n",
       "50080  640196838260363269   neutral   \n",
       "50081  640975710354567168  positive   \n",
       "50082  641034340068143104   neutral   \n",
       "\n",
       "                                                                                                                                          Tweet  \n",
       "0                                  Won the match #getin . Plus, tomorrow is a very busy day, with Awareness Day's and debates. Gulp. Debates...  \n",
       "1                                                                   Some areas of New England could see the first flakes of the season Tuesday.  \n",
       "2             @francesco_con40 2nd worst QB. DEFINITELY Tony Romo. The man who likes to share the ball with everyone. Including the other team.  \n",
       "3      #Thailand Washington - US President Barack Obama vowed Wednesday as he visited storm-ravaged New Jersey shore to... http://t.co/Xzl4LFhs  \n",
       "4              Did y'all hear what Tony Romo dressed up as for Halloween? A Giants quaterback! Cause that's all he could throw to sunday night.  \n",
       "...                                                                                                                                         ...  \n",
       "50078                                            @Racalto_SK ok good to know. Punting at MetLife in December is a task just hope hes up for it.  \n",
       "50079                                       everyone who sat around me at metlife was so annoying but i didnt let it ruin such an amazing night  \n",
       "50080                                                            what giants or niners fans would wanna go to the sunday night game at Metlife?  \n",
       "50081                                                                           Anybody want a ticket for tomorrow Colombia vs Peru at MetLife?  \n",
       "50082                                                  Mendez told me he'd drive me to MetLife on Sunday... My reaction: http://t.co/mUa1e0zrdC  \n",
       "\n",
       "[49418 rows x 3 columns]"
      ]
     },
     "execution_count": 8,
     "metadata": {},
     "output_type": "execute_result"
    }
   ],
   "source": [
    "training_data"
   ]
  },
  {
   "cell_type": "code",
   "execution_count": 9,
   "metadata": {},
   "outputs": [
    {
     "name": "stderr",
     "output_type": "stream",
     "text": [
      "C:\\Users\\mitch\\Anaconda3\\envs\\neuralnetworks\\lib\\site-packages\\ipykernel_launcher.py:1: SettingWithCopyWarning: \n",
      "A value is trying to be set on a copy of a slice from a DataFrame.\n",
      "Try using .loc[row_indexer,col_indexer] = value instead\n",
      "\n",
      "See the caveats in the documentation: http://pandas.pydata.org/pandas-docs/stable/user_guide/indexing.html#returning-a-view-versus-a-copy\n",
      "  \"\"\"Entry point for launching an IPython kernel.\n",
      "C:\\Users\\mitch\\Anaconda3\\envs\\neuralnetworks\\lib\\site-packages\\ipykernel_launcher.py:2: SettingWithCopyWarning: \n",
      "A value is trying to be set on a copy of a slice from a DataFrame.\n",
      "Try using .loc[row_indexer,col_indexer] = value instead\n",
      "\n",
      "See the caveats in the documentation: http://pandas.pydata.org/pandas-docs/stable/user_guide/indexing.html#returning-a-view-versus-a-copy\n",
      "  \n",
      "C:\\Users\\mitch\\Anaconda3\\envs\\neuralnetworks\\lib\\site-packages\\ipykernel_launcher.py:3: SettingWithCopyWarning: \n",
      "A value is trying to be set on a copy of a slice from a DataFrame.\n",
      "Try using .loc[row_indexer,col_indexer] = value instead\n",
      "\n",
      "See the caveats in the documentation: http://pandas.pydata.org/pandas-docs/stable/user_guide/indexing.html#returning-a-view-versus-a-copy\n",
      "  This is separate from the ipykernel package so we can avoid doing imports until\n"
     ]
    }
   ],
   "source": [
    "training_data['Sentiment'] = training_data['Sentiment'].replace('negative', 0)\n",
    "training_data['Sentiment'] = training_data['Sentiment'].replace('neutral', 1)\n",
    "training_data['Sentiment'] = training_data['Sentiment'].replace('positive', 2)"
   ]
  },
  {
   "cell_type": "code",
   "execution_count": 10,
   "metadata": {},
   "outputs": [
    {
     "data": {
      "text/plain": [
       "1    22175\n",
       "2    19552\n",
       "0     7691\n",
       "Name: Sentiment, dtype: int64"
      ]
     },
     "execution_count": 10,
     "metadata": {},
     "output_type": "execute_result"
    }
   ],
   "source": [
    "training_data['Sentiment'].value_counts()"
   ]
  },
  {
   "cell_type": "code",
   "execution_count": 11,
   "metadata": {},
   "outputs": [],
   "source": [
    "col_titles = ['ID', 'Tweet', 'Sentiment']\n",
    "training_data = training_data.reindex(columns=col_titles)"
   ]
  },
  {
   "cell_type": "code",
   "execution_count": 12,
   "metadata": {},
   "outputs": [
    {
     "data": {
      "text/html": [
       "<div>\n",
       "<style scoped>\n",
       "    .dataframe tbody tr th:only-of-type {\n",
       "        vertical-align: middle;\n",
       "    }\n",
       "\n",
       "    .dataframe tbody tr th {\n",
       "        vertical-align: top;\n",
       "    }\n",
       "\n",
       "    .dataframe thead th {\n",
       "        text-align: right;\n",
       "    }\n",
       "</style>\n",
       "<table border=\"1\" class=\"dataframe\">\n",
       "  <thead>\n",
       "    <tr style=\"text-align: right;\">\n",
       "      <th></th>\n",
       "      <th>ID</th>\n",
       "      <th>Tweet</th>\n",
       "      <th>Sentiment</th>\n",
       "    </tr>\n",
       "  </thead>\n",
       "  <tbody>\n",
       "    <tr>\n",
       "      <th>0</th>\n",
       "      <td>260097528899452929</td>\n",
       "      <td>Won the match #getin . Plus, tomorrow is a very busy day, with Awareness Day's and debates. Gulp. Debates...</td>\n",
       "      <td>1</td>\n",
       "    </tr>\n",
       "    <tr>\n",
       "      <th>1</th>\n",
       "      <td>263791921753882624</td>\n",
       "      <td>Some areas of New England could see the first flakes of the season Tuesday.</td>\n",
       "      <td>1</td>\n",
       "    </tr>\n",
       "    <tr>\n",
       "      <th>2</th>\n",
       "      <td>264194578381410304</td>\n",
       "      <td>@francesco_con40 2nd worst QB. DEFINITELY Tony Romo. The man who likes to share the ball with everyone. Including the other team.</td>\n",
       "      <td>0</td>\n",
       "    </tr>\n",
       "    <tr>\n",
       "      <th>3</th>\n",
       "      <td>264041328420204544</td>\n",
       "      <td>#Thailand Washington - US President Barack Obama vowed Wednesday as he visited storm-ravaged New Jersey shore to... http://t.co/Xzl4LFhs</td>\n",
       "      <td>1</td>\n",
       "    </tr>\n",
       "    <tr>\n",
       "      <th>4</th>\n",
       "      <td>263816256640126976</td>\n",
       "      <td>Did y'all hear what Tony Romo dressed up as for Halloween? A Giants quaterback! Cause that's all he could throw to sunday night.</td>\n",
       "      <td>1</td>\n",
       "    </tr>\n",
       "    <tr>\n",
       "      <th>...</th>\n",
       "      <td>...</td>\n",
       "      <td>...</td>\n",
       "      <td>...</td>\n",
       "    </tr>\n",
       "    <tr>\n",
       "      <th>50078</th>\n",
       "      <td>639855845958885376</td>\n",
       "      <td>@Racalto_SK ok good to know. Punting at MetLife in December is a task just hope hes up for it.</td>\n",
       "      <td>2</td>\n",
       "    </tr>\n",
       "    <tr>\n",
       "      <th>50079</th>\n",
       "      <td>639979760735662080</td>\n",
       "      <td>everyone who sat around me at metlife was so annoying but i didnt let it ruin such an amazing night</td>\n",
       "      <td>1</td>\n",
       "    </tr>\n",
       "    <tr>\n",
       "      <th>50080</th>\n",
       "      <td>640196838260363269</td>\n",
       "      <td>what giants or niners fans would wanna go to the sunday night game at Metlife?</td>\n",
       "      <td>1</td>\n",
       "    </tr>\n",
       "    <tr>\n",
       "      <th>50081</th>\n",
       "      <td>640975710354567168</td>\n",
       "      <td>Anybody want a ticket for tomorrow Colombia vs Peru at MetLife?</td>\n",
       "      <td>2</td>\n",
       "    </tr>\n",
       "    <tr>\n",
       "      <th>50082</th>\n",
       "      <td>641034340068143104</td>\n",
       "      <td>Mendez told me he'd drive me to MetLife on Sunday... My reaction: http://t.co/mUa1e0zrdC</td>\n",
       "      <td>1</td>\n",
       "    </tr>\n",
       "  </tbody>\n",
       "</table>\n",
       "<p>49418 rows × 3 columns</p>\n",
       "</div>"
      ],
      "text/plain": [
       "                       ID  \\\n",
       "0      260097528899452929   \n",
       "1      263791921753882624   \n",
       "2      264194578381410304   \n",
       "3      264041328420204544   \n",
       "4      263816256640126976   \n",
       "...                   ...   \n",
       "50078  639855845958885376   \n",
       "50079  639979760735662080   \n",
       "50080  640196838260363269   \n",
       "50081  640975710354567168   \n",
       "50082  641034340068143104   \n",
       "\n",
       "                                                                                                                                          Tweet  \\\n",
       "0                                  Won the match #getin . Plus, tomorrow is a very busy day, with Awareness Day's and debates. Gulp. Debates...   \n",
       "1                                                                   Some areas of New England could see the first flakes of the season Tuesday.   \n",
       "2             @francesco_con40 2nd worst QB. DEFINITELY Tony Romo. The man who likes to share the ball with everyone. Including the other team.   \n",
       "3      #Thailand Washington - US President Barack Obama vowed Wednesday as he visited storm-ravaged New Jersey shore to... http://t.co/Xzl4LFhs   \n",
       "4              Did y'all hear what Tony Romo dressed up as for Halloween? A Giants quaterback! Cause that's all he could throw to sunday night.   \n",
       "...                                                                                                                                         ...   \n",
       "50078                                            @Racalto_SK ok good to know. Punting at MetLife in December is a task just hope hes up for it.   \n",
       "50079                                       everyone who sat around me at metlife was so annoying but i didnt let it ruin such an amazing night   \n",
       "50080                                                            what giants or niners fans would wanna go to the sunday night game at Metlife?   \n",
       "50081                                                                           Anybody want a ticket for tomorrow Colombia vs Peru at MetLife?   \n",
       "50082                                                  Mendez told me he'd drive me to MetLife on Sunday... My reaction: http://t.co/mUa1e0zrdC   \n",
       "\n",
       "       Sentiment  \n",
       "0              1  \n",
       "1              1  \n",
       "2              0  \n",
       "3              1  \n",
       "4              1  \n",
       "...          ...  \n",
       "50078          2  \n",
       "50079          1  \n",
       "50080          1  \n",
       "50081          2  \n",
       "50082          1  \n",
       "\n",
       "[49418 rows x 3 columns]"
      ]
     },
     "execution_count": 12,
     "metadata": {},
     "output_type": "execute_result"
    }
   ],
   "source": [
    "training_data"
   ]
  },
  {
   "cell_type": "code",
   "execution_count": 13,
   "metadata": {},
   "outputs": [],
   "source": [
    "negative_sample = pd.read_csv('data/sentiment140/negative_sample_addin.csv')"
   ]
  },
  {
   "cell_type": "code",
   "execution_count": 14,
   "metadata": {},
   "outputs": [],
   "source": [
    "negative_sample = negative_sample.drop('Unnamed: 0', axis=1)\n"
   ]
  },
  {
   "cell_type": "code",
   "execution_count": 15,
   "metadata": {},
   "outputs": [
    {
     "data": {
      "text/html": [
       "<div>\n",
       "<style scoped>\n",
       "    .dataframe tbody tr th:only-of-type {\n",
       "        vertical-align: middle;\n",
       "    }\n",
       "\n",
       "    .dataframe tbody tr th {\n",
       "        vertical-align: top;\n",
       "    }\n",
       "\n",
       "    .dataframe thead th {\n",
       "        text-align: right;\n",
       "    }\n",
       "</style>\n",
       "<table border=\"1\" class=\"dataframe\">\n",
       "  <thead>\n",
       "    <tr style=\"text-align: right;\">\n",
       "      <th></th>\n",
       "      <th>ID</th>\n",
       "      <th>Tweet</th>\n",
       "      <th>Sentiment</th>\n",
       "    </tr>\n",
       "  </thead>\n",
       "  <tbody>\n",
       "    <tr>\n",
       "      <th>0</th>\n",
       "      <td>2246713398</td>\n",
       "      <td>@TheRealScarab PA system bugs are a bummer, sorry.</td>\n",
       "      <td>0</td>\n",
       "    </tr>\n",
       "    <tr>\n",
       "      <th>1</th>\n",
       "      <td>2237331866</td>\n",
       "      <td>oh daaamnnn! the firemen ball's on the 14th and i'll still be in Cannes  So many handsome men united 2gether, and i miss it! *out tonite*</td>\n",
       "      <td>0</td>\n",
       "    </tr>\n",
       "    <tr>\n",
       "      <th>2</th>\n",
       "      <td>1468288564</td>\n",
       "      <td>I don't want to be cold in April, but I am</td>\n",
       "      <td>0</td>\n",
       "    </tr>\n",
       "    <tr>\n",
       "      <th>3</th>\n",
       "      <td>2246385590</td>\n",
       "      <td>@JaredOngie haha its too cold down here  bt other than that im quite fine.. jst extremely bored  wht are your plans for the day?</td>\n",
       "      <td>0</td>\n",
       "    </tr>\n",
       "    <tr>\n",
       "      <th>4</th>\n",
       "      <td>2072038618</td>\n",
       "      <td>Upset I can't find my CHI!</td>\n",
       "      <td>0</td>\n",
       "    </tr>\n",
       "    <tr>\n",
       "      <th>...</th>\n",
       "      <td>...</td>\n",
       "      <td>...</td>\n",
       "      <td>...</td>\n",
       "    </tr>\n",
       "    <tr>\n",
       "      <th>12225</th>\n",
       "      <td>1977229871</td>\n",
       "      <td>Sounders are down 0-1 against the Columbus crew at the half.</td>\n",
       "      <td>0</td>\n",
       "    </tr>\n",
       "    <tr>\n",
       "      <th>12226</th>\n",
       "      <td>1990568686</td>\n",
       "      <td>Prayers for the family of the air France plane that is missing.</td>\n",
       "      <td>0</td>\n",
       "    </tr>\n",
       "    <tr>\n",
       "      <th>12227</th>\n",
       "      <td>1794321826</td>\n",
       "      <td>@pianoduet  we miss you too</td>\n",
       "      <td>0</td>\n",
       "    </tr>\n",
       "    <tr>\n",
       "      <th>12228</th>\n",
       "      <td>2053449275</td>\n",
       "      <td>never felt so down in the dumps</td>\n",
       "      <td>0</td>\n",
       "    </tr>\n",
       "    <tr>\n",
       "      <th>12229</th>\n",
       "      <td>1993705813</td>\n",
       "      <td>great weekend but tomorrow bio</td>\n",
       "      <td>0</td>\n",
       "    </tr>\n",
       "  </tbody>\n",
       "</table>\n",
       "<p>12230 rows × 3 columns</p>\n",
       "</div>"
      ],
      "text/plain": [
       "               ID  \\\n",
       "0      2246713398   \n",
       "1      2237331866   \n",
       "2      1468288564   \n",
       "3      2246385590   \n",
       "4      2072038618   \n",
       "...           ...   \n",
       "12225  1977229871   \n",
       "12226  1990568686   \n",
       "12227  1794321826   \n",
       "12228  2053449275   \n",
       "12229  1993705813   \n",
       "\n",
       "                                                                                                                                           Tweet  \\\n",
       "0                                                                                           @TheRealScarab PA system bugs are a bummer, sorry.     \n",
       "1      oh daaamnnn! the firemen ball's on the 14th and i'll still be in Cannes  So many handsome men united 2gether, and i miss it! *out tonite*   \n",
       "2                                                                                                    I don't want to be cold in April, but I am    \n",
       "3               @JaredOngie haha its too cold down here  bt other than that im quite fine.. jst extremely bored  wht are your plans for the day?   \n",
       "4                                                                                                                    Upset I can't find my CHI!    \n",
       "...                                                                                                                                          ...   \n",
       "12225                                                                              Sounders are down 0-1 against the Columbus crew at the half.    \n",
       "12226                                                                           Prayers for the family of the air France plane that is missing.    \n",
       "12227                                                                                                                @pianoduet  we miss you too   \n",
       "12228                                                                                                           never felt so down in the dumps    \n",
       "12229                                                                                                            great weekend but tomorrow bio    \n",
       "\n",
       "       Sentiment  \n",
       "0              0  \n",
       "1              0  \n",
       "2              0  \n",
       "3              0  \n",
       "4              0  \n",
       "...          ...  \n",
       "12225          0  \n",
       "12226          0  \n",
       "12227          0  \n",
       "12228          0  \n",
       "12229          0  \n",
       "\n",
       "[12230 rows x 3 columns]"
      ]
     },
     "execution_count": 15,
     "metadata": {},
     "output_type": "execute_result"
    }
   ],
   "source": [
    "negative_sample"
   ]
  },
  {
   "cell_type": "code",
   "execution_count": 16,
   "metadata": {},
   "outputs": [
    {
     "data": {
      "text/html": [
       "<div>\n",
       "<style scoped>\n",
       "    .dataframe tbody tr th:only-of-type {\n",
       "        vertical-align: middle;\n",
       "    }\n",
       "\n",
       "    .dataframe tbody tr th {\n",
       "        vertical-align: top;\n",
       "    }\n",
       "\n",
       "    .dataframe thead th {\n",
       "        text-align: right;\n",
       "    }\n",
       "</style>\n",
       "<table border=\"1\" class=\"dataframe\">\n",
       "  <thead>\n",
       "    <tr style=\"text-align: right;\">\n",
       "      <th></th>\n",
       "      <th>ID</th>\n",
       "      <th>Tweet</th>\n",
       "      <th>Sentiment</th>\n",
       "    </tr>\n",
       "  </thead>\n",
       "  <tbody>\n",
       "    <tr>\n",
       "      <th>0</th>\n",
       "      <td>260097528899452929</td>\n",
       "      <td>Won the match #getin . Plus, tomorrow is a very busy day, with Awareness Day's and debates. Gulp. Debates...</td>\n",
       "      <td>1</td>\n",
       "    </tr>\n",
       "    <tr>\n",
       "      <th>1</th>\n",
       "      <td>263791921753882624</td>\n",
       "      <td>Some areas of New England could see the first flakes of the season Tuesday.</td>\n",
       "      <td>1</td>\n",
       "    </tr>\n",
       "    <tr>\n",
       "      <th>2</th>\n",
       "      <td>264194578381410304</td>\n",
       "      <td>@francesco_con40 2nd worst QB. DEFINITELY Tony Romo. The man who likes to share the ball with everyone. Including the other team.</td>\n",
       "      <td>0</td>\n",
       "    </tr>\n",
       "    <tr>\n",
       "      <th>3</th>\n",
       "      <td>264041328420204544</td>\n",
       "      <td>#Thailand Washington - US President Barack Obama vowed Wednesday as he visited storm-ravaged New Jersey shore to... http://t.co/Xzl4LFhs</td>\n",
       "      <td>1</td>\n",
       "    </tr>\n",
       "    <tr>\n",
       "      <th>4</th>\n",
       "      <td>263816256640126976</td>\n",
       "      <td>Did y'all hear what Tony Romo dressed up as for Halloween? A Giants quaterback! Cause that's all he could throw to sunday night.</td>\n",
       "      <td>1</td>\n",
       "    </tr>\n",
       "    <tr>\n",
       "      <th>...</th>\n",
       "      <td>...</td>\n",
       "      <td>...</td>\n",
       "      <td>...</td>\n",
       "    </tr>\n",
       "    <tr>\n",
       "      <th>61643</th>\n",
       "      <td>1977229871</td>\n",
       "      <td>Sounders are down 0-1 against the Columbus crew at the half.</td>\n",
       "      <td>0</td>\n",
       "    </tr>\n",
       "    <tr>\n",
       "      <th>61644</th>\n",
       "      <td>1990568686</td>\n",
       "      <td>Prayers for the family of the air France plane that is missing.</td>\n",
       "      <td>0</td>\n",
       "    </tr>\n",
       "    <tr>\n",
       "      <th>61645</th>\n",
       "      <td>1794321826</td>\n",
       "      <td>@pianoduet  we miss you too</td>\n",
       "      <td>0</td>\n",
       "    </tr>\n",
       "    <tr>\n",
       "      <th>61646</th>\n",
       "      <td>2053449275</td>\n",
       "      <td>never felt so down in the dumps</td>\n",
       "      <td>0</td>\n",
       "    </tr>\n",
       "    <tr>\n",
       "      <th>61647</th>\n",
       "      <td>1993705813</td>\n",
       "      <td>great weekend but tomorrow bio</td>\n",
       "      <td>0</td>\n",
       "    </tr>\n",
       "  </tbody>\n",
       "</table>\n",
       "<p>61648 rows × 3 columns</p>\n",
       "</div>"
      ],
      "text/plain": [
       "                       ID  \\\n",
       "0      260097528899452929   \n",
       "1      263791921753882624   \n",
       "2      264194578381410304   \n",
       "3      264041328420204544   \n",
       "4      263816256640126976   \n",
       "...                   ...   \n",
       "61643          1977229871   \n",
       "61644          1990568686   \n",
       "61645          1794321826   \n",
       "61646          2053449275   \n",
       "61647          1993705813   \n",
       "\n",
       "                                                                                                                                          Tweet  \\\n",
       "0                                  Won the match #getin . Plus, tomorrow is a very busy day, with Awareness Day's and debates. Gulp. Debates...   \n",
       "1                                                                   Some areas of New England could see the first flakes of the season Tuesday.   \n",
       "2             @francesco_con40 2nd worst QB. DEFINITELY Tony Romo. The man who likes to share the ball with everyone. Including the other team.   \n",
       "3      #Thailand Washington - US President Barack Obama vowed Wednesday as he visited storm-ravaged New Jersey shore to... http://t.co/Xzl4LFhs   \n",
       "4              Did y'all hear what Tony Romo dressed up as for Halloween? A Giants quaterback! Cause that's all he could throw to sunday night.   \n",
       "...                                                                                                                                         ...   \n",
       "61643                                                                             Sounders are down 0-1 against the Columbus crew at the half.    \n",
       "61644                                                                          Prayers for the family of the air France plane that is missing.    \n",
       "61645                                                                                                               @pianoduet  we miss you too   \n",
       "61646                                                                                                          never felt so down in the dumps    \n",
       "61647                                                                                                           great weekend but tomorrow bio    \n",
       "\n",
       "       Sentiment  \n",
       "0              1  \n",
       "1              1  \n",
       "2              0  \n",
       "3              1  \n",
       "4              1  \n",
       "...          ...  \n",
       "61643          0  \n",
       "61644          0  \n",
       "61645          0  \n",
       "61646          0  \n",
       "61647          0  \n",
       "\n",
       "[61648 rows x 3 columns]"
      ]
     },
     "execution_count": 16,
     "metadata": {},
     "output_type": "execute_result"
    }
   ],
   "source": [
    "training_data = training_data.append(negative_sample)\n",
    "training_data = training_data.reset_index(drop=True)\n",
    "training_data"
   ]
  },
  {
   "cell_type": "code",
   "execution_count": 17,
   "metadata": {},
   "outputs": [
    {
     "data": {
      "text/plain": [
       "1    22175\n",
       "0    19921\n",
       "2    19552\n",
       "Name: Sentiment, dtype: int64"
      ]
     },
     "execution_count": 17,
     "metadata": {},
     "output_type": "execute_result"
    }
   ],
   "source": [
    "training_data['Sentiment'].value_counts()"
   ]
  },
  {
   "cell_type": "code",
   "execution_count": 18,
   "metadata": {},
   "outputs": [],
   "source": [
    "def remove_stopwords(input_text):\n",
    "    stopwords_list = stopwords.words('english')\n",
    "    # Some words which might indicate a certain sentiment are kept via a whitelist\n",
    "    whitelist = [\"not\", \"no\"]\n",
    "    words = input_text.split() \n",
    "    clean_words = [word for word in words if (word not in stopwords_list or word in whitelist) and len(word) > 1] \n",
    "    return \" \".join(clean_words) "
   ]
  },
  {
   "cell_type": "code",
   "execution_count": 19,
   "metadata": {},
   "outputs": [],
   "source": [
    "def tweet_cleaner(tweet_column):\n",
    "    #remove links\n",
    "    tweet_column = tweet_column.str.replace('\\w+:\\/\\/\\S+', '', case=False)\n",
    "    #remove @user\n",
    "    tweet_column = tweet_column.str.replace('@[A-Za-z0-9_]+', '')\n",
    "    #remove underscores\n",
    "    tweet_column = tweet_column.str.replace('_', ' ')\n",
    "    #remove apostrophes\n",
    "    tweet_column = tweet_column.str.replace(\"'\", '')\n",
    "    #remove hashtags\n",
    "    tweet_column = tweet_column.str.replace('#[A-Za-z0-9]+', '')\n",
    "    #remove punctuation \n",
    "    tweet_column = tweet_column.str.replace(\"[^\\w\\d\\s#’]\", \" \")\n",
    "    #lower case\n",
    "    tweet_column = tweet_column.str.lower()\n",
    "    #remove whitespace\n",
    "    tweet_column = tweet_column.str.replace(r'\\s\\s+', ' ')\n",
    "    #remove beginning and end whitespace\n",
    "    tweet_column = tweet_column.str.lstrip(' ')\n",
    "    tweet_column = tweet_column.str.rstrip(' ')\n",
    "    \n",
    "    return tweet_column   "
   ]
  },
  {
   "cell_type": "code",
   "execution_count": 20,
   "metadata": {},
   "outputs": [],
   "source": [
    "training_data['Tweet'] = training_data['Tweet'].apply(remove_stopwords)"
   ]
  },
  {
   "cell_type": "code",
   "execution_count": 21,
   "metadata": {},
   "outputs": [],
   "source": [
    "training_data['Tweet'] = tweet_cleaner(training_data['Tweet'])"
   ]
  },
  {
   "cell_type": "code",
   "execution_count": 22,
   "metadata": {},
   "outputs": [
    {
     "name": "stdout",
     "output_type": "stream",
     "text": [
      "<class 'pandas.core.frame.DataFrame'>\n",
      "RangeIndex: 61648 entries, 0 to 61647\n",
      "Data columns (total 3 columns):\n",
      "ID           61648 non-null int64\n",
      "Tweet        61648 non-null object\n",
      "Sentiment    61648 non-null int64\n",
      "dtypes: int64(2), object(1)\n",
      "memory usage: 1.4+ MB\n"
     ]
    }
   ],
   "source": [
    "training_data.info()"
   ]
  },
  {
   "cell_type": "code",
   "execution_count": 23,
   "metadata": {},
   "outputs": [],
   "source": [
    "review_lines= []\n",
    "lines = training_data['Tweet'].values.tolist()"
   ]
  },
  {
   "cell_type": "code",
   "execution_count": 24,
   "metadata": {},
   "outputs": [],
   "source": [
    "for line in lines:\n",
    "    tokens = word_tokenize(line)\n",
    "    #lemmatize  \n",
    "    lemmatizer = nltk.stem.WordNetLemmatizer()\n",
    "    words = [lemmatizer.lemmatize(token) for token in tokens]\n",
    "    review_lines.append(words)"
   ]
  },
  {
   "cell_type": "code",
   "execution_count": 25,
   "metadata": {},
   "outputs": [
    {
     "data": {
      "text/plain": [
       "['some',\n",
       " 'area',\n",
       " 'new',\n",
       " 'england',\n",
       " 'could',\n",
       " 'see',\n",
       " 'first',\n",
       " 'flake',\n",
       " 'season',\n",
       " 'tuesday']"
      ]
     },
     "execution_count": 25,
     "metadata": {},
     "output_type": "execute_result"
    }
   ],
   "source": [
    "review_lines[1]"
   ]
  },
  {
   "cell_type": "code",
   "execution_count": 26,
   "metadata": {},
   "outputs": [],
   "source": [
    "#train word2vec model\n",
    "w2v_model = gensim.models.Word2Vec(sentences=review_lines, size=100, window=5, workers=4, min_count=5)"
   ]
  },
  {
   "cell_type": "code",
   "execution_count": 27,
   "metadata": {},
   "outputs": [
    {
     "data": {
      "text/plain": [
       "[('dad', 0.9590665698051453),\n",
       " ('yall', 0.9422159194946289),\n",
       " ('ima', 0.9404256939888),\n",
       " ('okay', 0.9401607513427734),\n",
       " ('hey', 0.935899019241333),\n",
       " ('bc', 0.9352407455444336),\n",
       " ('fucking', 0.9343057870864868),\n",
       " ('omg', 0.9313623905181885),\n",
       " ('cry', 0.931204080581665),\n",
       " ('as', 0.9265304803848267)]"
      ]
     },
     "execution_count": 27,
     "metadata": {},
     "output_type": "execute_result"
    }
   ],
   "source": [
    "w2v_model.wv.most_similar('mom')"
   ]
  },
  {
   "cell_type": "markdown",
   "metadata": {},
   "source": [
    "Very strange word vectors, will use pre-trained GloVe Embeddings (100 Dimension Tweet Embeddings)"
   ]
  },
  {
   "cell_type": "code",
   "execution_count": 28,
   "metadata": {},
   "outputs": [
    {
     "name": "stdout",
     "output_type": "stream",
     "text": [
      "# Train data samples: 49318\n",
      "# Test data samples: 12330\n"
     ]
    }
   ],
   "source": [
    "X_train, X_test, y_train, y_test = train_test_split(training_data['Tweet'], training_data['Sentiment'], test_size=0.2, random_state=1, stratify=training_data['Sentiment'])\n",
    "print('# Train data samples:', X_train.shape[0])\n",
    "print('# Test data samples:', X_test.shape[0])"
   ]
  },
  {
   "cell_type": "code",
   "execution_count": 29,
   "metadata": {},
   "outputs": [],
   "source": [
    "NB_WORDS = 20000 #Max number of words\n",
    "NB_START_EPOCHS = 10  # Number of epochs\n",
    "MAX_LEN = 24  # Max number of words in a sequence\n",
    "GLOVE_DIM = 100  # Number of dimensions of the GloVe word embeddings"
   ]
  },
  {
   "cell_type": "code",
   "execution_count": 30,
   "metadata": {},
   "outputs": [],
   "source": [
    "#tokenize\n",
    "tk = Tokenizer(num_words=NB_WORDS,\n",
    "               filters='!\"#$%&()*+,-./:;<=>?@[\\\\]^_`{|}~\\t\\n',\n",
    "               lower=True,\n",
    "               split=\" \")\n",
    "tk.fit_on_texts(X_train)\n",
    "\n",
    "#convert to sequences\n",
    "X_train_seq = tk.texts_to_sequences(X_train)\n",
    "X_test_seq = tk.texts_to_sequences(X_test)"
   ]
  },
  {
   "cell_type": "code",
   "execution_count": 31,
   "metadata": {},
   "outputs": [
    {
     "data": {
      "text/plain": [
       "'some areas new england could see first flakes season tuesday'"
      ]
     },
     "execution_count": 31,
     "metadata": {},
     "output_type": "execute_result"
    }
   ],
   "source": [
    "X_train[1]"
   ]
  },
  {
   "cell_type": "code",
   "execution_count": 32,
   "metadata": {},
   "outputs": [],
   "source": [
    "#split sequences\n",
    "seq_lengths = X_train.apply(lambda x: len(x.split(' ')))"
   ]
  },
  {
   "cell_type": "code",
   "execution_count": 33,
   "metadata": {},
   "outputs": [],
   "source": [
    "#padding\n",
    "X_train_seq_trunc = pad_sequences(X_train_seq, maxlen=MAX_LEN)\n",
    "X_test_seq_trunc = pad_sequences(X_test_seq, maxlen=MAX_LEN)"
   ]
  },
  {
   "cell_type": "code",
   "execution_count": 34,
   "metadata": {},
   "outputs": [],
   "source": [
    "le = LabelEncoder()\n",
    "y_train_le = le.fit_transform(y_train)\n",
    "y_test_le = le.transform(y_test)\n",
    "y_train_oh = to_categorical(y_train_le)\n",
    "y_test_oh = to_categorical(y_test_le)"
   ]
  },
  {
   "cell_type": "code",
   "execution_count": 35,
   "metadata": {},
   "outputs": [
    {
     "name": "stdout",
     "output_type": "stream",
     "text": [
      "Shape of validation set: (9864, 24)\n"
     ]
    }
   ],
   "source": [
    "#split training data into train and validation sets\n",
    "X_train_emb, X_valid_emb, y_train_emb, y_valid_emb = train_test_split(X_train_seq_trunc, y_train_oh, test_size=0.2, random_state=1)\n",
    "\n",
    "\n",
    "print('Shape of validation set:',X_valid_emb.shape)"
   ]
  },
  {
   "cell_type": "code",
   "execution_count": 36,
   "metadata": {},
   "outputs": [],
   "source": [
    "#create embedding dict from txt file\n",
    "glove_file = 'glove.twitter.27B.' + str(GLOVE_DIM) + 'd.txt'\n",
    "emb_dict = {}\n",
    "glove = open(f'data/glove.twitter.27B/glove.twitter.27B.{GLOVE_DIM}d.txt', encoding='utf-8')\n",
    "for line in glove:\n",
    "    values = line.split()\n",
    "    word = values[0]\n",
    "    vector = np.asarray(values[1:], dtype='float32')\n",
    "    emb_dict[word] = vector\n",
    "glove.close()"
   ]
  },
  {
   "cell_type": "code",
   "execution_count": 37,
   "metadata": {},
   "outputs": [],
   "source": [
    "#create embedding matrix\n",
    "emb_matrix = np.zeros((NB_WORDS, GLOVE_DIM))\n",
    "\n",
    "for w, i in tk.word_index.items():\n",
    "    # Limit word index tokens\n",
    "    if i < NB_WORDS:\n",
    "        vect = emb_dict.get(w)\n",
    "        # Check if the word from the training data occurs in the GloVe word embeddings\n",
    "        # Otherwise the vector is kept with only zeros\n",
    "        if vect is not None:\n",
    "            emb_matrix[i] = vect\n",
    "    else:\n",
    "        break"
   ]
  },
  {
   "cell_type": "code",
   "execution_count": 38,
   "metadata": {},
   "outputs": [
    {
     "data": {
      "text/plain": [
       "array([[ 0.        ,  0.        ,  0.        , ...,  0.        ,\n",
       "         0.        ,  0.        ],\n",
       "       [-0.50931001,  0.25145999,  0.13897   , ...,  0.78486001,\n",
       "        -0.36993   , -0.41058999],\n",
       "       [ 0.64710999,  0.13349   , -0.23288   , ..., -0.05992   ,\n",
       "        -0.26833001, -0.70072001],\n",
       "       ...,\n",
       "       [ 0.29385   ,  0.048252  ,  0.35034999, ...,  0.46015   ,\n",
       "         0.53100997, -0.27226001],\n",
       "       [-0.13681   ,  0.68089998, -0.23052999, ...,  0.54215002,\n",
       "        -0.14811   ,  0.66140997],\n",
       "       [-0.83674002, -0.013398  ,  0.073317  , ..., -0.16075   ,\n",
       "         0.43700999,  0.021054  ]])"
      ]
     },
     "execution_count": 38,
     "metadata": {},
     "output_type": "execute_result"
    }
   ],
   "source": [
    "emb_matrix"
   ]
  },
  {
   "cell_type": "markdown",
   "metadata": {},
   "source": [
    "# RNN"
   ]
  },
  {
   "cell_type": "code",
   "execution_count": 39,
   "metadata": {},
   "outputs": [
    {
     "name": "stdout",
     "output_type": "stream",
     "text": [
      "_________________________________________________________________\n",
      "Layer (type)                 Output Shape              Param #   \n",
      "=================================================================\n",
      "embedding_1 (Embedding)      (None, 24, 100)           2000000   \n",
      "_________________________________________________________________\n",
      "lstm_1 (LSTM)                (None, 300)               481200    \n",
      "_________________________________________________________________\n",
      "dense_1 (Dense)              (None, 3)                 903       \n",
      "=================================================================\n",
      "Total params: 2,482,103\n",
      "Trainable params: 2,482,103\n",
      "Non-trainable params: 0\n",
      "_________________________________________________________________\n"
     ]
    }
   ],
   "source": [
    "glove_model = Sequential()\n",
    "glove_model.add(Embedding(NB_WORDS, GLOVE_DIM, input_length=MAX_LEN))\n",
    "glove_model.add(LSTM(300, activation='relu'))\n",
    "glove_model.add(Dense(3, activation='softmax'))\n",
    "glove_model.compile(loss='categorical_crossentropy', optimizer='adam', metrics=['accuracy'])\n",
    "glove_model.summary()"
   ]
  },
  {
   "cell_type": "code",
   "execution_count": 40,
   "metadata": {},
   "outputs": [],
   "source": [
    "glove_model.layers[0].set_weights([emb_matrix])\n",
    "glove_model.layers[0].trainable = False"
   ]
  },
  {
   "cell_type": "code",
   "execution_count": 41,
   "metadata": {},
   "outputs": [
    {
     "name": "stderr",
     "output_type": "stream",
     "text": [
      "C:\\Users\\mitch\\Anaconda3\\envs\\neuralnetworks\\lib\\site-packages\\keras\\engine\\training.py:490: UserWarning: Discrepancy between trainable weights and collected trainable weights, did you set `model.trainable` without calling `model.compile` after ?\n",
      "  'Discrepancy between trainable weights and collected trainable'\n"
     ]
    },
    {
     "name": "stdout",
     "output_type": "stream",
     "text": [
      "Train on 39454 samples, validate on 9864 samples\n",
      "Epoch 1/10\n",
      "39454/39454 [==============================] - 63s 2ms/step - loss: 0.7536 - acc: 0.6572 - val_loss: 0.6635 - val_acc: 0.7052\n",
      "Epoch 2/10\n",
      "39454/39454 [==============================] - 58s 1ms/step - loss: 0.5962 - acc: 0.7345 - val_loss: 0.6222 - val_acc: 0.7239\n",
      "Epoch 3/10\n",
      "39454/39454 [==============================] - 60s 2ms/step - loss: 0.5112 - acc: 0.7764 - val_loss: 0.6346 - val_acc: 0.7215\n",
      "Epoch 4/10\n",
      "39454/39454 [==============================] - 50s 1ms/step - loss: 0.4291 - acc: 0.8173 - val_loss: 0.6823 - val_acc: 0.7173\n",
      "Epoch 5/10\n",
      "39454/39454 [==============================] - 49s 1ms/step - loss: 0.3497 - acc: 0.8553 - val_loss: 0.7996 - val_acc: 0.7011\n",
      "Epoch 6/10\n",
      "39454/39454 [==============================] - 56s 1ms/step - loss: 0.2722 - acc: 0.8903 - val_loss: 1.0081 - val_acc: 0.6959\n",
      "Epoch 7/10\n",
      "39454/39454 [==============================] - 53s 1ms/step - loss: 0.2007 - acc: 0.9204 - val_loss: 1.1660 - val_acc: 0.6902\n",
      "Epoch 8/10\n",
      "39454/39454 [==============================] - 53s 1ms/step - loss: 0.1494 - acc: 0.9438 - val_loss: 1.4428 - val_acc: 0.6818\n",
      "Epoch 9/10\n",
      "39454/39454 [==============================] - 66s 2ms/step - loss: 0.1115 - acc: 0.9593 - val_loss: 1.5273 - val_acc: 0.6760\n",
      "Epoch 10/10\n",
      "39454/39454 [==============================] - 62s 2ms/step - loss: 0.0926 - acc: 0.9680 - val_loss: 1.6484 - val_acc: 0.6780\n"
     ]
    },
    {
     "data": {
      "text/plain": [
       "<keras.callbacks.History at 0x20e825c9780>"
      ]
     },
     "execution_count": 41,
     "metadata": {},
     "output_type": "execute_result"
    }
   ],
   "source": [
    "#THIS WILL TAKE A WHILE TO RUN\n",
    "glove_model.fit(X_train_emb, y_train_emb, batch_size=128, epochs=10, validation_data=(X_valid_emb, y_valid_emb), verbose=1)"
   ]
  },
  {
   "cell_type": "markdown",
   "metadata": {},
   "source": [
    "Because the accuracy is marginally higher than the Bag of Words model, I will use the Bag of Words model for the sentiment analysis."
   ]
  }
 ],
 "metadata": {
  "kernelspec": {
   "display_name": "Python 3",
   "language": "python",
   "name": "python3"
  },
  "language_info": {
   "codemirror_mode": {
    "name": "ipython",
    "version": 3
   },
   "file_extension": ".py",
   "mimetype": "text/x-python",
   "name": "python",
   "nbconvert_exporter": "python",
   "pygments_lexer": "ipython3",
   "version": "3.6.9"
  }
 },
 "nbformat": 4,
 "nbformat_minor": 4
}
