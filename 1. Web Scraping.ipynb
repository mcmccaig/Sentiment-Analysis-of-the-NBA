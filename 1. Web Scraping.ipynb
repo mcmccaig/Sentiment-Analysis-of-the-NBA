{
 "cells": [
  {
   "cell_type": "code",
   "execution_count": 2,
   "metadata": {},
   "outputs": [],
   "source": [
    "import requests\n",
    "import pandas as pd"
   ]
  },
  {
   "cell_type": "code",
   "execution_count": 3,
   "metadata": {},
   "outputs": [],
   "source": [
    "latemonths = ['october', 'november', 'december']\n",
    "earlymonths = ['january', 'february', 'march', 'april', 'may', 'june']"
   ]
  },
  {
   "cell_type": "code",
   "execution_count": 35,
   "metadata": {},
   "outputs": [],
   "source": [
    "#game by game attendance scraping\n",
    "for i in latemonths:\n",
    "    \n",
    "    html_doc = requests.get(f'https://www.basketball-reference.com/leagues/NBA_2015_games-{i}.html').content\n",
    "\n",
    "    tables = pd.read_html(html_doc)\n",
    "\n",
    "    tables[0]\n",
    "\n",
    "    tables[0].to_csv(f'data/{i}_2014_nba_attendance.csv', index=False)"
   ]
  },
  {
   "cell_type": "code",
   "execution_count": 36,
   "metadata": {},
   "outputs": [],
   "source": [
    "#game by game attendance scraping\n",
    "for i in earlymonths:\n",
    "    \n",
    "    html_doc = requests.get(f'https://www.basketball-reference.com/leagues/NBA_2015_games-{i}.html').content\n",
    "\n",
    "    tables = pd.read_html(html_doc)\n",
    "\n",
    "    tables[0]\n",
    "\n",
    "    tables[0].to_csv(f'data/{i}_2015_nba_attendance.csv', index=False)"
   ]
  },
  {
   "cell_type": "code",
   "execution_count": 6,
   "metadata": {},
   "outputs": [],
   "source": [
    "#team by team regular season record scraping\n",
    "html_doc = requests.get('https://www.basketball-reference.com/teams/GSW/2019_games.html').content\n",
    "\n",
    "tables = pd.read_html(html_doc)\n",
    "\n",
    "tables[0]\n",
    "\n",
    "tables[0].to_csv('data/schedule/warriors_2018_attendance.csv', index=False)"
   ]
  },
  {
   "cell_type": "code",
   "execution_count": 4,
   "metadata": {},
   "outputs": [],
   "source": [
    "#arena capacity scraping\n",
    "html_doc = requests.get('https://en.wikipedia.org/wiki/List_of_National_Basketball_Association_arenas').content\n",
    "\n",
    "tables = pd.read_html(html_doc)\n",
    "\n",
    "tables[0]\n",
    "\n",
    "tables[0].to_csv('data/attendance/arena_capacity.csv', index=False)"
   ]
  }
 ],
 "metadata": {
  "kernelspec": {
   "display_name": "Python 3",
   "language": "python",
   "name": "python3"
  },
  "language_info": {
   "codemirror_mode": {
    "name": "ipython",
    "version": 3
   },
   "file_extension": ".py",
   "mimetype": "text/x-python",
   "name": "python",
   "nbconvert_exporter": "python",
   "pygments_lexer": "ipython3",
   "version": "3.7.3"
  }
 },
 "nbformat": 4,
 "nbformat_minor": 4
}
