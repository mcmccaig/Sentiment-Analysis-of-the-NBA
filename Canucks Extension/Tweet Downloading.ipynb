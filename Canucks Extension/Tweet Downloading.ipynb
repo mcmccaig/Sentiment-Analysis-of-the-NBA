{
 "cells": [
  {
   "cell_type": "markdown",
   "metadata": {},
   "source": [
    "# Step by step"
   ]
  },
  {
   "cell_type": "code",
   "execution_count": 1,
   "metadata": {},
   "outputs": [],
   "source": [
    "import GetOldTweets3 as got\n",
    "import pandas as pd\n",
    "import time\n",
    "import datetime"
   ]
  },
  {
   "cell_type": "markdown",
   "metadata": {},
   "source": [
    "# Download tweets tester"
   ]
  },
  {
   "cell_type": "code",
   "execution_count": 4,
   "metadata": {},
   "outputs": [
    {
     "name": "stdout",
     "output_type": "stream",
     "text": [
      "Runtime: 108.08991003036499\n"
     ]
    }
   ],
   "source": [
    "start_time = time.time()\n",
    "tweetCriteria = got.manager.TweetCriteria().setQuerySearch('Canucks')\\\n",
    "                                           .setSince('2018-10-01')\\\n",
    "                                           .setUntil('2019-04-06')\\\n",
    "                                           .setWithin('30km')\\\n",
    "                                           .setLang(Lang='en')\\\n",
    "                                           .setNear(near='Vancouver')\n",
    "tweet = got.manager.TweetManager.getTweets(tweetCriteria)\n",
    "end_time = time.time()\n",
    "print(f'Runtime: {end_time-start_time}')"
   ]
  },
  {
   "cell_type": "code",
   "execution_count": 5,
   "metadata": {},
   "outputs": [
    {
     "data": {
      "text/html": [
       "<div>\n",
       "<style scoped>\n",
       "    .dataframe tbody tr th:only-of-type {\n",
       "        vertical-align: middle;\n",
       "    }\n",
       "\n",
       "    .dataframe tbody tr th {\n",
       "        vertical-align: top;\n",
       "    }\n",
       "\n",
       "    .dataframe thead th {\n",
       "        text-align: right;\n",
       "    }\n",
       "</style>\n",
       "<table border=\"1\" class=\"dataframe\">\n",
       "  <thead>\n",
       "    <tr style=\"text-align: right;\">\n",
       "      <th></th>\n",
       "      <th>ID</th>\n",
       "      <th>Date</th>\n",
       "      <th>User</th>\n",
       "      <th>Tweet</th>\n",
       "    </tr>\n",
       "  </thead>\n",
       "  <tbody>\n",
       "    <tr>\n",
       "      <th>0</th>\n",
       "      <td>1114276175495307265</td>\n",
       "      <td>2019-04-05 21:18:37+00:00</td>\n",
       "      <td>JCog88</td>\n",
       "      <td>Well said. #Canucks</td>\n",
       "    </tr>\n",
       "    <tr>\n",
       "      <th>1</th>\n",
       "      <td>1114253688053227520</td>\n",
       "      <td>2019-04-05 19:49:15+00:00</td>\n",
       "      <td>Bvlacic</td>\n",
       "      <td>Soft hands</td>\n",
       "    </tr>\n",
       "    <tr>\n",
       "      <th>2</th>\n",
       "      <td>1114236797578428416</td>\n",
       "      <td>2019-04-05 18:42:08+00:00</td>\n",
       "      <td>Hazeent</td>\n",
       "      <td>Can someone at the @Canucks please explain how...</td>\n",
       "    </tr>\n",
       "    <tr>\n",
       "      <th>3</th>\n",
       "      <td>1114224817736048640</td>\n",
       "      <td>2019-04-05 17:54:32+00:00</td>\n",
       "      <td>JCog88</td>\n",
       "      <td>Some good news #Canucks</td>\n",
       "    </tr>\n",
       "    <tr>\n",
       "      <th>4</th>\n",
       "      <td>1114215667836674048</td>\n",
       "      <td>2019-04-05 17:18:10+00:00</td>\n",
       "      <td>LenCatling</td>\n",
       "      <td>I feel teams got tape on Pettersson after his ...</td>\n",
       "    </tr>\n",
       "    <tr>\n",
       "      <th>...</th>\n",
       "      <td>...</td>\n",
       "      <td>...</td>\n",
       "      <td>...</td>\n",
       "      <td>...</td>\n",
       "    </tr>\n",
       "    <tr>\n",
       "      <th>1188</th>\n",
       "      <td>1047662900767285249</td>\n",
       "      <td>2018-10-04 01:41:14+00:00</td>\n",
       "      <td>timbradley31</td>\n",
       "      <td>Opening night with the young man, Flames vs Ca...</td>\n",
       "    </tr>\n",
       "    <tr>\n",
       "      <th>1189</th>\n",
       "      <td>1047661326301106177</td>\n",
       "      <td>2018-10-04 01:34:59+00:00</td>\n",
       "      <td>laurence_mira</td>\n",
       "      <td>At the office! #canucks #rogersarena #nhl @Van...</td>\n",
       "    </tr>\n",
       "    <tr>\n",
       "      <th>1190</th>\n",
       "      <td>1047661094242852865</td>\n",
       "      <td>2018-10-04 01:34:04+00:00</td>\n",
       "      <td>jezza_savage</td>\n",
       "      <td>C’mon the #canucks #vancouvercanucks #nhl19 Ho...</td>\n",
       "    </tr>\n",
       "    <tr>\n",
       "      <th>1191</th>\n",
       "      <td>1047650408993378304</td>\n",
       "      <td>2018-10-04 00:51:36+00:00</td>\n",
       "      <td>ALMURDOCH</td>\n",
       "      <td>HERE WE GO!!! canucks kick off the 2018/2019 r...</td>\n",
       "    </tr>\n",
       "    <tr>\n",
       "      <th>1192</th>\n",
       "      <td>1047646444134518791</td>\n",
       "      <td>2018-10-04 00:35:51+00:00</td>\n",
       "      <td>chefgoodlifevan</td>\n",
       "      <td>Here before the @canucks game #dropthepuck - D...</td>\n",
       "    </tr>\n",
       "  </tbody>\n",
       "</table>\n",
       "<p>1193 rows × 4 columns</p>\n",
       "</div>"
      ],
      "text/plain": [
       "                       ID                      Date             User  \\\n",
       "0     1114276175495307265 2019-04-05 21:18:37+00:00           JCog88   \n",
       "1     1114253688053227520 2019-04-05 19:49:15+00:00          Bvlacic   \n",
       "2     1114236797578428416 2019-04-05 18:42:08+00:00          Hazeent   \n",
       "3     1114224817736048640 2019-04-05 17:54:32+00:00           JCog88   \n",
       "4     1114215667836674048 2019-04-05 17:18:10+00:00       LenCatling   \n",
       "...                   ...                       ...              ...   \n",
       "1188  1047662900767285249 2018-10-04 01:41:14+00:00     timbradley31   \n",
       "1189  1047661326301106177 2018-10-04 01:34:59+00:00    laurence_mira   \n",
       "1190  1047661094242852865 2018-10-04 01:34:04+00:00     jezza_savage   \n",
       "1191  1047650408993378304 2018-10-04 00:51:36+00:00        ALMURDOCH   \n",
       "1192  1047646444134518791 2018-10-04 00:35:51+00:00  chefgoodlifevan   \n",
       "\n",
       "                                                  Tweet  \n",
       "0                                   Well said. #Canucks  \n",
       "1                                            Soft hands  \n",
       "2     Can someone at the @Canucks please explain how...  \n",
       "3                              Some good news #Canucks   \n",
       "4     I feel teams got tape on Pettersson after his ...  \n",
       "...                                                 ...  \n",
       "1188  Opening night with the young man, Flames vs Ca...  \n",
       "1189  At the office! #canucks #rogersarena #nhl @Van...  \n",
       "1190  C’mon the #canucks #vancouvercanucks #nhl19 Ho...  \n",
       "1191  HERE WE GO!!! canucks kick off the 2018/2019 r...  \n",
       "1192  Here before the @canucks game #dropthepuck - D...  \n",
       "\n",
       "[1193 rows x 4 columns]"
      ]
     },
     "execution_count": 5,
     "metadata": {},
     "output_type": "execute_result"
    }
   ],
   "source": [
    "pd.DataFrame({'ID': [i.id for i in tweet],\n",
    "              'Date': [i.date for i in tweet],\n",
    "              'User': [i.username for i in tweet],\n",
    "              'Tweet': [i.text for i in tweet]})"
   ]
  },
  {
   "cell_type": "markdown",
   "metadata": {},
   "source": [
    "# tweet download function"
   ]
  },
  {
   "cell_type": "code",
   "execution_count": 7,
   "metadata": {},
   "outputs": [],
   "source": [
    "#NHL team and city location dictionary\n",
    "opponent_dict={'Boston Bruins': 'Boston',\n",
    "               'Buffalo Sabres': 'Buffalo',\n",
    "               'Detroit Red Wings': 'Detroit',\n",
    "               'Florida Panthers': 'Miami',\n",
    "               'Montreal Canadiens': 'Montreal',\n",
    "               'Ottawa Senators': 'Ottawa',\n",
    "               'Tampa Bay Lightning': 'Tampa Bay',\n",
    "               'Toronto Maple Leafs': 'Toronto',\n",
    "               'Carolina Hurricanes': 'Raleigh',\n",
    "               'Columbus Blue Jackets': 'Columbus',\n",
    "               'New Jersey Devils': 'Newark',\n",
    "               'New York Islanders': 'New York',\n",
    "               'New York Rangers': 'New York',\n",
    "               'Philadelphia Flyers': 'Philadelphia',\n",
    "               'Pittsburgh Penguins': 'Pittsburgh',\n",
    "               'Washington Capitals': 'Washington D.C.',\n",
    "               'Chicago Blackhawks': 'Chicago',\n",
    "               'Colorado Avalanche': 'Denver',\n",
    "               'Dallas Stars': 'Dallas',\n",
    "               'Minnesota Wild': 'Minneapolis',\n",
    "               'Nashville Predators': 'Nashville',\n",
    "               'St. Louis Blues': 'St. Louis',\n",
    "               'Winnipeg Jets': 'Winnipeg',\n",
    "               'Anaheim Ducks': 'Anaheim',\n",
    "               'Arizona Coyotes': 'Phoenix',\n",
    "               'Calgary Flames': 'Calgary',\n",
    "               'Edmonton Oilers': 'Edmonton',\n",
    "               'Los Angeles Kings': 'Los Angeles',\n",
    "               'San Jose Sharks': 'San Jose',\n",
    "               'Vancouver Canucks': 'Vancouver',\n",
    "               'Vegas Golden Knights': 'Las Vegas'\n",
    "}"
   ]
  },
  {
   "cell_type": "code",
   "execution_count": 8,
   "metadata": {},
   "outputs": [],
   "source": [
    "def tweet_downloader(query):    \n",
    "    \n",
    "    #loop to download the time and location specific tweets \n",
    "    start_time = time.time()\n",
    "    final_tweets = pd.DataFrame()\n",
    "    for i in opponent_dict.values():\n",
    "        tweetCriteria = got.manager.TweetCriteria().setQuerySearch(f'{query}')\\\n",
    "                                                   .setSince('2018-10-01')\\\n",
    "                                                   .setUntil('2019-04-06')\\\n",
    "                                                   .setWithin('30km')\\\n",
    "                                                   .setLang(Lang='en')\\\n",
    "                                                   .setNear(near=i)\n",
    "\n",
    "        tweet = got.manager.TweetManager.getTweets(tweetCriteria)\n",
    "        end_time = time.time()\n",
    "        print(f'Retrieving tweets from: {i}.             ', end='\\r')\n",
    "        for n in tweet:\n",
    "            final_tweets = final_tweets.append({'ID': n.id,\n",
    "                                                'Date': n.date,\n",
    "                                                'User': n.username,\n",
    "                                                'Tweet': n.text,\n",
    "                                                'Game Location': i},\n",
    "                                                ignore_index=True)\n",
    "        \n",
    "    final_tweets = final_tweets.sort_values(['Date']).reset_index(drop=True)\n",
    "    \n",
    "    final_tweets.to_csv(f'../data/canucks/{query}_2018_tweets.csv')\n",
    "    \n",
    "    end_time = time.time()\n",
    "    print(f'Finished. Runtime: {end_time - start_time}           ')"
   ]
  },
  {
   "cell_type": "markdown",
   "metadata": {},
   "source": [
    "# Loop"
   ]
  },
  {
   "cell_type": "code",
   "execution_count": 9,
   "metadata": {},
   "outputs": [],
   "source": [
    "vancouver = ['canucks', \n",
    "           'elias pettersson',\n",
    "           'bo horvat',\n",
    "           'brock boeser']"
   ]
  },
  {
   "cell_type": "code",
   "execution_count": 10,
   "metadata": {},
   "outputs": [
    {
     "name": "stdout",
     "output_type": "stream",
     "text": [
      "Finished. Runtime: 191.03253269195557                \n",
      "Finished. Runtime: 18.035077571868896                \n",
      "Finished. Runtime: 21.774606704711914                \n",
      "Finished. Runtime: 23.164482355117798                \n"
     ]
    }
   ],
   "source": [
    "for i in vancouver:\n",
    "    tweet_downloader(i)\n"
   ]
  },
  {
   "cell_type": "code",
   "execution_count": null,
   "metadata": {},
   "outputs": [],
   "source": []
  }
 ],
 "metadata": {
  "kernelspec": {
   "display_name": "Python 3",
   "language": "python",
   "name": "python3"
  },
  "language_info": {
   "codemirror_mode": {
    "name": "ipython",
    "version": 3
   },
   "file_extension": ".py",
   "mimetype": "text/x-python",
   "name": "python",
   "nbconvert_exporter": "python",
   "pygments_lexer": "ipython3",
   "version": "3.6.9"
  }
 },
 "nbformat": 4,
 "nbformat_minor": 4
}
